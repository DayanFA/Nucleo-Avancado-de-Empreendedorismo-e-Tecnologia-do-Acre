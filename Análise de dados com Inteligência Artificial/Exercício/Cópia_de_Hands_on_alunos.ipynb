{
  "cells": [
    {
      "cell_type": "markdown",
      "metadata": {
        "id": "YWMaDKA-ejhs"
      },
      "source": [
        "<p style=\"text-align:center\">\n",
        "    <a href=\"https://skills.network/?utm_medium=Exinfluencer&utm_source=Exinfluencer&utm_content=000026UJ&utm_term=10006555&utm_id=NA-SkillsNetwork-Channel-SkillsNetworkCoursesIBMDeveloperSkillsNetworkDA0101ENSkillsNetwork20235326-2022-01-01\" target=\"_blank\">\n",
        "    <img src=\"https://www.ufac.br/nave/imagens/logo.png/@@images/b79444d1-a803-4e49-b5da-98228cf1e2fd.png\" width=\"200\" alt=\"Nave Tech Logo\"/>\n",
        "    </a>\n",
        "</p>\n",
        "\n",
        "\n",
        "# Hands on\n",
        "\n",
        "\n",
        "## Objetivo\n",
        "\n",
        "* A atividade consiste em criar e avaliar modelos preditivos treinados spara determinar o preço de um carro usando a base de dados de auto_cleaned.csv.\n"
      ]
    },
    {
      "cell_type": "markdown",
      "metadata": {
        "id": "cxMqlT-HaGEp"
      },
      "source": [
        "## Observações\n",
        "* _Este hands on *poderá* ser feito em duplas. Indique o nome das duplas neste notebook ao enviar para o classroom_.\n",
        "* Use o conjunto de dados auto_cleaned.csv usado nas aulas para ajustar (treinar) os modelos preditivos conforme se pede nas questões.\n",
        "* Use o conjunto de dados de teste test.csv para realizar novas previsões.\n",
        "* Faça as importações das bibliotecas e métodos necessários para a manipulação dos dados, ajustes nos modelos, avaliações e visualizações.\n",
        "* Use este notebook para as respostas.</p>"
      ]
    },
    {
      "cell_type": "code",
      "execution_count": 191,
      "metadata": {
        "id": "8CKYMd3vecEi"
      },
      "outputs": [],
      "source": [
        "import pandas as pd\n",
        "import numpy as np\n",
        "import matplotlib.pyplot as plt\n",
        "import seaborn as sns\n",
        "%matplotlib inline "
      ]
    },
    {
      "cell_type": "code",
      "execution_count": 192,
      "metadata": {
        "id": "YjHr9gboCa_p"
      },
      "outputs": [],
      "source": [
        "from sklearn.linear_model import LinearRegression"
      ]
    },
    {
      "cell_type": "code",
      "execution_count": 193,
      "metadata": {
        "id": "hU6mKlxJd2kW",
        "outputId": "5f6f05b6-5dd0-4a7b-f0f4-5e21056acbaa",
        "colab": {
          "base_uri": "https://localhost:8080/"
        }
      },
      "outputs": [
        {
          "output_type": "stream",
          "name": "stdout",
          "text": [
            "Drive already mounted at /content/drive; to attempt to forcibly remount, call drive.mount(\"/content/drive\", force_remount=True).\n"
          ]
        }
      ],
      "source": [
        "from google.colab import drive\n",
        "drive.mount('/content/drive')"
      ]
    },
    {
      "cell_type": "code",
      "source": [
        "path='/content/drive/MyDrive/yep/1/auto_cleaned.csv'\n",
        "df = pd.read_csv(path)\n",
        "df.columns"
      ],
      "metadata": {
        "id": "1Rw_HPNXq2yZ",
        "outputId": "bd04bf08-cc08-4d10-f230-850fcd22afed",
        "colab": {
          "base_uri": "https://localhost:8080/"
        }
      },
      "execution_count": 194,
      "outputs": [
        {
          "output_type": "execute_result",
          "data": {
            "text/plain": [
              "Index(['symboling', 'normalized-losses', 'make', 'aspiration', 'num-of-doors',\n",
              "       'body-style', 'drive-wheels', 'engine-location', 'wheel-base', 'length',\n",
              "       'width', 'height', 'curb-weight', 'engine-type', 'num-of-cylinders',\n",
              "       'engine-size', 'fuel-system', 'bore', 'stroke', 'compression-ratio',\n",
              "       'horsepower', 'peak-rpm', 'city-mpg', 'highway-mpg', 'price',\n",
              "       'city-L/100km', 'horsepower-binned', 'diesel', 'gas'],\n",
              "      dtype='object')"
            ]
          },
          "metadata": {},
          "execution_count": 194
        }
      ]
    },
    {
      "cell_type": "code",
      "source": [
        "path = '/content/drive/MyDrive/yep/1/auto_cleaned.csv'\n",
        "df = pd.read_csv(path)\n",
        "df.head()"
      ],
      "metadata": {
        "id": "PVEtd8-lr4by",
        "outputId": "f7e170bc-31c7-4494-de36-da1beaaa4295",
        "colab": {
          "base_uri": "https://localhost:8080/",
          "height": 0
        }
      },
      "execution_count": 195,
      "outputs": [
        {
          "output_type": "execute_result",
          "data": {
            "text/plain": [
              "   symboling  normalized-losses         make aspiration num-of-doors  \\\n",
              "0          3                122  alfa-romero        std          two   \n",
              "1          3                122  alfa-romero        std          two   \n",
              "2          1                122  alfa-romero        std          two   \n",
              "3          2                164         audi        std         four   \n",
              "4          2                164         audi        std         four   \n",
              "\n",
              "    body-style drive-wheels engine-location  wheel-base    length  ...  \\\n",
              "0  convertible          rwd           front        88.6  0.811148  ...   \n",
              "1  convertible          rwd           front        88.6  0.811148  ...   \n",
              "2    hatchback          rwd           front        94.5  0.822681  ...   \n",
              "3        sedan          fwd           front        99.8  0.848630  ...   \n",
              "4        sedan          4wd           front        99.4  0.848630  ...   \n",
              "\n",
              "   compression-ratio  horsepower  peak-rpm city-mpg highway-mpg    price  \\\n",
              "0                9.0       111.0    5000.0       21          27  13495.0   \n",
              "1                9.0       111.0    5000.0       21          27  16500.0   \n",
              "2                9.0       154.0    5000.0       19          26  16500.0   \n",
              "3               10.0       102.0    5500.0       24          30  13950.0   \n",
              "4                8.0       115.0    5500.0       18          22  17450.0   \n",
              "\n",
              "  city-L/100km  horsepower-binned  diesel  gas  \n",
              "0    11.190476             Medium       0    1  \n",
              "1    11.190476             Medium       0    1  \n",
              "2    12.368421             Medium       0    1  \n",
              "3     9.791667             Medium       0    1  \n",
              "4    13.055556             Medium       0    1  \n",
              "\n",
              "[5 rows x 29 columns]"
            ],
            "text/html": [
              "\n",
              "  <div id=\"df-b9f080db-bc80-4188-9af4-3dcedf830698\">\n",
              "    <div class=\"colab-df-container\">\n",
              "      <div>\n",
              "<style scoped>\n",
              "    .dataframe tbody tr th:only-of-type {\n",
              "        vertical-align: middle;\n",
              "    }\n",
              "\n",
              "    .dataframe tbody tr th {\n",
              "        vertical-align: top;\n",
              "    }\n",
              "\n",
              "    .dataframe thead th {\n",
              "        text-align: right;\n",
              "    }\n",
              "</style>\n",
              "<table border=\"1\" class=\"dataframe\">\n",
              "  <thead>\n",
              "    <tr style=\"text-align: right;\">\n",
              "      <th></th>\n",
              "      <th>symboling</th>\n",
              "      <th>normalized-losses</th>\n",
              "      <th>make</th>\n",
              "      <th>aspiration</th>\n",
              "      <th>num-of-doors</th>\n",
              "      <th>body-style</th>\n",
              "      <th>drive-wheels</th>\n",
              "      <th>engine-location</th>\n",
              "      <th>wheel-base</th>\n",
              "      <th>length</th>\n",
              "      <th>...</th>\n",
              "      <th>compression-ratio</th>\n",
              "      <th>horsepower</th>\n",
              "      <th>peak-rpm</th>\n",
              "      <th>city-mpg</th>\n",
              "      <th>highway-mpg</th>\n",
              "      <th>price</th>\n",
              "      <th>city-L/100km</th>\n",
              "      <th>horsepower-binned</th>\n",
              "      <th>diesel</th>\n",
              "      <th>gas</th>\n",
              "    </tr>\n",
              "  </thead>\n",
              "  <tbody>\n",
              "    <tr>\n",
              "      <th>0</th>\n",
              "      <td>3</td>\n",
              "      <td>122</td>\n",
              "      <td>alfa-romero</td>\n",
              "      <td>std</td>\n",
              "      <td>two</td>\n",
              "      <td>convertible</td>\n",
              "      <td>rwd</td>\n",
              "      <td>front</td>\n",
              "      <td>88.6</td>\n",
              "      <td>0.811148</td>\n",
              "      <td>...</td>\n",
              "      <td>9.0</td>\n",
              "      <td>111.0</td>\n",
              "      <td>5000.0</td>\n",
              "      <td>21</td>\n",
              "      <td>27</td>\n",
              "      <td>13495.0</td>\n",
              "      <td>11.190476</td>\n",
              "      <td>Medium</td>\n",
              "      <td>0</td>\n",
              "      <td>1</td>\n",
              "    </tr>\n",
              "    <tr>\n",
              "      <th>1</th>\n",
              "      <td>3</td>\n",
              "      <td>122</td>\n",
              "      <td>alfa-romero</td>\n",
              "      <td>std</td>\n",
              "      <td>two</td>\n",
              "      <td>convertible</td>\n",
              "      <td>rwd</td>\n",
              "      <td>front</td>\n",
              "      <td>88.6</td>\n",
              "      <td>0.811148</td>\n",
              "      <td>...</td>\n",
              "      <td>9.0</td>\n",
              "      <td>111.0</td>\n",
              "      <td>5000.0</td>\n",
              "      <td>21</td>\n",
              "      <td>27</td>\n",
              "      <td>16500.0</td>\n",
              "      <td>11.190476</td>\n",
              "      <td>Medium</td>\n",
              "      <td>0</td>\n",
              "      <td>1</td>\n",
              "    </tr>\n",
              "    <tr>\n",
              "      <th>2</th>\n",
              "      <td>1</td>\n",
              "      <td>122</td>\n",
              "      <td>alfa-romero</td>\n",
              "      <td>std</td>\n",
              "      <td>two</td>\n",
              "      <td>hatchback</td>\n",
              "      <td>rwd</td>\n",
              "      <td>front</td>\n",
              "      <td>94.5</td>\n",
              "      <td>0.822681</td>\n",
              "      <td>...</td>\n",
              "      <td>9.0</td>\n",
              "      <td>154.0</td>\n",
              "      <td>5000.0</td>\n",
              "      <td>19</td>\n",
              "      <td>26</td>\n",
              "      <td>16500.0</td>\n",
              "      <td>12.368421</td>\n",
              "      <td>Medium</td>\n",
              "      <td>0</td>\n",
              "      <td>1</td>\n",
              "    </tr>\n",
              "    <tr>\n",
              "      <th>3</th>\n",
              "      <td>2</td>\n",
              "      <td>164</td>\n",
              "      <td>audi</td>\n",
              "      <td>std</td>\n",
              "      <td>four</td>\n",
              "      <td>sedan</td>\n",
              "      <td>fwd</td>\n",
              "      <td>front</td>\n",
              "      <td>99.8</td>\n",
              "      <td>0.848630</td>\n",
              "      <td>...</td>\n",
              "      <td>10.0</td>\n",
              "      <td>102.0</td>\n",
              "      <td>5500.0</td>\n",
              "      <td>24</td>\n",
              "      <td>30</td>\n",
              "      <td>13950.0</td>\n",
              "      <td>9.791667</td>\n",
              "      <td>Medium</td>\n",
              "      <td>0</td>\n",
              "      <td>1</td>\n",
              "    </tr>\n",
              "    <tr>\n",
              "      <th>4</th>\n",
              "      <td>2</td>\n",
              "      <td>164</td>\n",
              "      <td>audi</td>\n",
              "      <td>std</td>\n",
              "      <td>four</td>\n",
              "      <td>sedan</td>\n",
              "      <td>4wd</td>\n",
              "      <td>front</td>\n",
              "      <td>99.4</td>\n",
              "      <td>0.848630</td>\n",
              "      <td>...</td>\n",
              "      <td>8.0</td>\n",
              "      <td>115.0</td>\n",
              "      <td>5500.0</td>\n",
              "      <td>18</td>\n",
              "      <td>22</td>\n",
              "      <td>17450.0</td>\n",
              "      <td>13.055556</td>\n",
              "      <td>Medium</td>\n",
              "      <td>0</td>\n",
              "      <td>1</td>\n",
              "    </tr>\n",
              "  </tbody>\n",
              "</table>\n",
              "<p>5 rows × 29 columns</p>\n",
              "</div>\n",
              "      <button class=\"colab-df-convert\" onclick=\"convertToInteractive('df-b9f080db-bc80-4188-9af4-3dcedf830698')\"\n",
              "              title=\"Convert this dataframe to an interactive table.\"\n",
              "              style=\"display:none;\">\n",
              "        \n",
              "  <svg xmlns=\"http://www.w3.org/2000/svg\" height=\"24px\"viewBox=\"0 0 24 24\"\n",
              "       width=\"24px\">\n",
              "    <path d=\"M0 0h24v24H0V0z\" fill=\"none\"/>\n",
              "    <path d=\"M18.56 5.44l.94 2.06.94-2.06 2.06-.94-2.06-.94-.94-2.06-.94 2.06-2.06.94zm-11 1L8.5 8.5l.94-2.06 2.06-.94-2.06-.94L8.5 2.5l-.94 2.06-2.06.94zm10 10l.94 2.06.94-2.06 2.06-.94-2.06-.94-.94-2.06-.94 2.06-2.06.94z\"/><path d=\"M17.41 7.96l-1.37-1.37c-.4-.4-.92-.59-1.43-.59-.52 0-1.04.2-1.43.59L10.3 9.45l-7.72 7.72c-.78.78-.78 2.05 0 2.83L4 21.41c.39.39.9.59 1.41.59.51 0 1.02-.2 1.41-.59l7.78-7.78 2.81-2.81c.8-.78.8-2.07 0-2.86zM5.41 20L4 18.59l7.72-7.72 1.47 1.35L5.41 20z\"/>\n",
              "  </svg>\n",
              "      </button>\n",
              "      \n",
              "  <style>\n",
              "    .colab-df-container {\n",
              "      display:flex;\n",
              "      flex-wrap:wrap;\n",
              "      gap: 12px;\n",
              "    }\n",
              "\n",
              "    .colab-df-convert {\n",
              "      background-color: #E8F0FE;\n",
              "      border: none;\n",
              "      border-radius: 50%;\n",
              "      cursor: pointer;\n",
              "      display: none;\n",
              "      fill: #1967D2;\n",
              "      height: 32px;\n",
              "      padding: 0 0 0 0;\n",
              "      width: 32px;\n",
              "    }\n",
              "\n",
              "    .colab-df-convert:hover {\n",
              "      background-color: #E2EBFA;\n",
              "      box-shadow: 0px 1px 2px rgba(60, 64, 67, 0.3), 0px 1px 3px 1px rgba(60, 64, 67, 0.15);\n",
              "      fill: #174EA6;\n",
              "    }\n",
              "\n",
              "    [theme=dark] .colab-df-convert {\n",
              "      background-color: #3B4455;\n",
              "      fill: #D2E3FC;\n",
              "    }\n",
              "\n",
              "    [theme=dark] .colab-df-convert:hover {\n",
              "      background-color: #434B5C;\n",
              "      box-shadow: 0px 1px 3px 1px rgba(0, 0, 0, 0.15);\n",
              "      filter: drop-shadow(0px 1px 2px rgba(0, 0, 0, 0.3));\n",
              "      fill: #FFFFFF;\n",
              "    }\n",
              "  </style>\n",
              "\n",
              "      <script>\n",
              "        const buttonEl =\n",
              "          document.querySelector('#df-b9f080db-bc80-4188-9af4-3dcedf830698 button.colab-df-convert');\n",
              "        buttonEl.style.display =\n",
              "          google.colab.kernel.accessAllowed ? 'block' : 'none';\n",
              "\n",
              "        async function convertToInteractive(key) {\n",
              "          const element = document.querySelector('#df-b9f080db-bc80-4188-9af4-3dcedf830698');\n",
              "          const dataTable =\n",
              "            await google.colab.kernel.invokeFunction('convertToInteractive',\n",
              "                                                     [key], {});\n",
              "          if (!dataTable) return;\n",
              "\n",
              "          const docLinkHtml = 'Like what you see? Visit the ' +\n",
              "            '<a target=\"_blank\" href=https://colab.research.google.com/notebooks/data_table.ipynb>data table notebook</a>'\n",
              "            + ' to learn more about interactive tables.';\n",
              "          element.innerHTML = '';\n",
              "          dataTable['output_type'] = 'display_data';\n",
              "          await google.colab.output.renderOutput(dataTable, element);\n",
              "          const docLink = document.createElement('div');\n",
              "          docLink.innerHTML = docLinkHtml;\n",
              "          element.appendChild(docLink);\n",
              "        }\n",
              "      </script>\n",
              "    </div>\n",
              "  </div>\n",
              "  "
            ]
          },
          "metadata": {},
          "execution_count": 195
        }
      ]
    },
    {
      "cell_type": "markdown",
      "metadata": {
        "id": "f8XXvbrtU6q2"
      },
      "source": [
        "# Questão 1\n",
        "\n",
        "Crie um modelo de regressão linear múltipla <b>lm1</b> treinado sobre as seguintes features do conjunto auto_cleaned:\n",
        "\n",
        "* Horsepower\n",
        "* Curb-weight\n",
        "* Engine-size\n",
        "* Highway-mpg\n",
        "* City-mpg\n",
        "* Bore\n",
        "* Width\n",
        "* Length\n",
        "* Wheel-base\n",
        "\n",
        "Avalie a qualidade do ajuste (treinamento) usando R-squared e a qualidade das previsões do ajuste usando MSE."
      ]
    },
    {
      "cell_type": "code",
      "execution_count": 196,
      "metadata": {
        "id": "rE9rHUJ2kWI7"
      },
      "outputs": [],
      "source": [
        "# inicie seu codigo da questao a partir daqui"
      ]
    },
    {
      "cell_type": "code",
      "source": [
        "from sklearn.metrics import mean_squared_error"
      ],
      "metadata": {
        "id": "66u-U_nSv2Rh"
      },
      "execution_count": 197,
      "outputs": []
    },
    {
      "cell_type": "code",
      "source": [
        "lm = LinearRegression()\n",
        "lm"
      ],
      "metadata": {
        "id": "MYGfpRTrsUZu",
        "outputId": "b2a7b708-a71c-4b55-b1a3-52b1b35ffac8",
        "colab": {
          "base_uri": "https://localhost:8080/"
        }
      },
      "execution_count": 198,
      "outputs": [
        {
          "output_type": "execute_result",
          "data": {
            "text/plain": [
              "LinearRegression()"
            ]
          },
          "metadata": {},
          "execution_count": 198
        }
      ]
    },
    {
      "cell_type": "code",
      "source": [
        "X = df[['highway-mpg']]\n",
        "Y = df['price']\n",
        "H = df[['horsepower']]\n",
        "Z = df[['curb-weight']]\n",
        "A = df[['engine-size']]\n",
        "B = df[['city-mpg']]\n",
        "C = df[['bore']]\n",
        "D = df[['width']]\n",
        "E = df[['length']]\n",
        "F = df[['wheel-base']]"
      ],
      "metadata": {
        "id": "TmyUBnB8tvee"
      },
      "execution_count": 199,
      "outputs": []
    },
    {
      "cell_type": "markdown",
      "source": [
        "## Modelo1 "
      ],
      "metadata": {
        "id": "yy0SIkUb1EkB"
      }
    },
    {
      "cell_type": "code",
      "source": [
        "lm.fit(X,Y)\n",
        "print('The R-square is: ', lm.score(X, Y))"
      ],
      "metadata": {
        "id": "mfQRx_vdxpc0",
        "outputId": "b88a66d7-da6e-463d-a5f8-574a31425152",
        "colab": {
          "base_uri": "https://localhost:8080/"
        }
      },
      "execution_count": 200,
      "outputs": [
        {
          "output_type": "stream",
          "name": "stdout",
          "text": [
            "The R-square is:  0.4965911884339176\n"
          ]
        }
      ]
    },
    {
      "cell_type": "code",
      "source": [
        "Yhat=lm.predict(X)\n",
        "print('The output of the first four predicted value is: ', Yhat[0:4])"
      ],
      "metadata": {
        "colab": {
          "base_uri": "https://localhost:8080/"
        },
        "id": "1Yr1qAB8z2cI",
        "outputId": "b40907cf-ee97-441e-8093-e92b6402cbe0"
      },
      "execution_count": 201,
      "outputs": [
        {
          "output_type": "stream",
          "name": "stdout",
          "text": [
            "The output of the first four predicted value is:  [16236.50464347 16236.50464347 17058.23802179 13771.3045085 ]\n"
          ]
        }
      ]
    },
    {
      "cell_type": "code",
      "source": [
        "mse = mean_squared_error(df['price'], Yhat)\n",
        "print('The mean square error of price and predicted value is: ', mse)"
      ],
      "metadata": {
        "colab": {
          "base_uri": "https://localhost:8080/"
        },
        "id": "Sf1Wwj_yv2f2",
        "outputId": "52a5ef35-0c8d-41e9-ae54-8cd5670b70f7"
      },
      "execution_count": 202,
      "outputs": [
        {
          "output_type": "stream",
          "name": "stdout",
          "text": [
            "The mean square error of price and predicted value is:  31635042.944639888\n"
          ]
        }
      ]
    },
    {
      "cell_type": "code",
      "source": [
        "Y_predict_multifit = lm.predict(X)"
      ],
      "metadata": {
        "id": "eIJStWsPv2sX"
      },
      "execution_count": 203,
      "outputs": []
    },
    {
      "cell_type": "code",
      "source": [
        "print('The mean square error of price and predicted value using multifit is: ', \\\n",
        "      mean_squared_error(df['price'], Y_predict_multifit))"
      ],
      "metadata": {
        "colab": {
          "base_uri": "https://localhost:8080/"
        },
        "id": "wBM2FrNwv26c",
        "outputId": "3d29a8de-39d0-4bda-dc89-6606a8579043"
      },
      "execution_count": 204,
      "outputs": [
        {
          "output_type": "stream",
          "name": "stdout",
          "text": [
            "The mean square error of price and predicted value using multifit is:  31635042.944639888\n"
          ]
        }
      ]
    },
    {
      "cell_type": "markdown",
      "source": [
        "## Modelo2 \n"
      ],
      "metadata": {
        "id": "gVfQ5Xd62Mnx"
      }
    },
    {
      "cell_type": "code",
      "source": [
        "lm.fit(Z, Y)\n",
        "print('The R-square is: ', lm.score(Z, Y))"
      ],
      "metadata": {
        "id": "4763kAKktg4_",
        "outputId": "ca195356-61c3-4add-86a5-e5a98db80cb4",
        "colab": {
          "base_uri": "https://localhost:8080/"
        }
      },
      "execution_count": 205,
      "outputs": [
        {
          "output_type": "stream",
          "name": "stdout",
          "text": [
            "The R-square is:  0.6962476008164487\n"
          ]
        }
      ]
    },
    {
      "cell_type": "code",
      "source": [
        "Yhat=lm.predict(Z)\n",
        "print('The output of the first four predicted value is: ', Yhat[0:4])"
      ],
      "metadata": {
        "colab": {
          "base_uri": "https://localhost:8080/"
        },
        "outputId": "f11cdd14-8193-4e3a-b051-9991ae06a26f",
        "id": "3Uro0hAj-Im_"
      },
      "execution_count": 206,
      "outputs": [
        {
          "output_type": "stream",
          "name": "stdout",
          "text": [
            "The output of the first four predicted value is:  [13108.85152621 13108.85152621 16634.03445191 10404.07480868]\n"
          ]
        }
      ]
    },
    {
      "cell_type": "code",
      "source": [
        "mse = mean_squared_error(df['price'], Yhat)\n",
        "print('The mean square error of price and predicted value is: ', mse)"
      ],
      "metadata": {
        "colab": {
          "base_uri": "https://localhost:8080/"
        },
        "outputId": "ecdb7df4-26ea-43f8-9890-f2b40dda3931",
        "id": "OS42aXBb-Im_"
      },
      "execution_count": 207,
      "outputs": [
        {
          "output_type": "stream",
          "name": "stdout",
          "text": [
            "The mean square error of price and predicted value is:  19088303.52574717\n"
          ]
        }
      ]
    },
    {
      "cell_type": "code",
      "source": [
        "Y_predict_multifit = lm.predict(Z)"
      ],
      "metadata": {
        "id": "4TRrs6aj-InA"
      },
      "execution_count": 208,
      "outputs": []
    },
    {
      "cell_type": "code",
      "source": [
        "print('The mean square error of price and predicted value using multifit is: ', \\\n",
        "      mean_squared_error(df['price'], Y_predict_multifit))"
      ],
      "metadata": {
        "colab": {
          "base_uri": "https://localhost:8080/"
        },
        "outputId": "13303668-aeaa-4800-c899-e12f68e32e98",
        "id": "hUzONZiL-InA"
      },
      "execution_count": 209,
      "outputs": [
        {
          "output_type": "stream",
          "name": "stdout",
          "text": [
            "The mean square error of price and predicted value using multifit is:  19088303.52574717\n"
          ]
        }
      ]
    },
    {
      "cell_type": "markdown",
      "source": [
        "## Modelo3 "
      ],
      "metadata": {
        "id": "FlxfNUA02f1P"
      }
    },
    {
      "cell_type": "code",
      "source": [
        "lm.fit(H, Y)\n",
        "print('The R-square is: ', lm.score(H, Y))"
      ],
      "metadata": {
        "id": "rkClSo90xp1X",
        "outputId": "62277c02-00f8-4f6d-8981-e3ba8e40e91a",
        "colab": {
          "base_uri": "https://localhost:8080/"
        }
      },
      "execution_count": 210,
      "outputs": [
        {
          "output_type": "stream",
          "name": "stdout",
          "text": [
            "The R-square is:  0.6554109795391572\n"
          ]
        }
      ]
    },
    {
      "cell_type": "code",
      "source": [
        "Yhat=lm.predict(H)\n",
        "print('The output of the first four predicted value is: ', Yhat[0:4])"
      ],
      "metadata": {
        "colab": {
          "base_uri": "https://localhost:8080/"
        },
        "outputId": "bf951170-9b29-40d1-8b9c-0b775bef60f7",
        "id": "2FGrD_rQ-PoE"
      },
      "execution_count": 211,
      "outputs": [
        {
          "output_type": "stream",
          "name": "stdout",
          "text": [
            "The output of the first four predicted value is:  [14514.76823442 14514.76823442 21918.64247666 12965.1201372 ]\n"
          ]
        }
      ]
    },
    {
      "cell_type": "code",
      "source": [
        "mse = mean_squared_error(df['price'], Yhat)\n",
        "print('The mean square error of price and predicted value is: ', mse)"
      ],
      "metadata": {
        "colab": {
          "base_uri": "https://localhost:8080/"
        },
        "outputId": "ea13fb36-eb06-499e-8e77-938e0f3ba5aa",
        "id": "_9IsNkdC-PoE"
      },
      "execution_count": 212,
      "outputs": [
        {
          "output_type": "stream",
          "name": "stdout",
          "text": [
            "The mean square error of price and predicted value is:  21654544.398254286\n"
          ]
        }
      ]
    },
    {
      "cell_type": "code",
      "source": [
        "Y_predict_multifit = lm.predict(H)"
      ],
      "metadata": {
        "id": "5ADvHSL3-PoE"
      },
      "execution_count": 213,
      "outputs": []
    },
    {
      "cell_type": "code",
      "source": [
        "print('The mean square error of price and predicted value using multifit is: ', \\\n",
        "      mean_squared_error(df['price'], Y_predict_multifit))"
      ],
      "metadata": {
        "colab": {
          "base_uri": "https://localhost:8080/"
        },
        "outputId": "e7ae973e-41f3-436e-d33f-bde9a6301654",
        "id": "SX-Wg2Rt-PoE"
      },
      "execution_count": 214,
      "outputs": [
        {
          "output_type": "stream",
          "name": "stdout",
          "text": [
            "The mean square error of price and predicted value using multifit is:  21654544.398254286\n"
          ]
        }
      ]
    },
    {
      "cell_type": "markdown",
      "source": [
        "## Modelo4"
      ],
      "metadata": {
        "id": "Pczedqnr7oej"
      }
    },
    {
      "cell_type": "code",
      "source": [
        "lm.fit(A, Y)\n",
        "print('The R-square is: ', lm.score(A, Y))"
      ],
      "metadata": {
        "colab": {
          "base_uri": "https://localhost:8080/"
        },
        "id": "eg6-hdl28DRK",
        "outputId": "351973c0-f337-422a-c5f5-93fea8fd431c"
      },
      "execution_count": 215,
      "outputs": [
        {
          "output_type": "stream",
          "name": "stdout",
          "text": [
            "The R-square is:  0.7609686443622008\n"
          ]
        }
      ]
    },
    {
      "cell_type": "code",
      "source": [
        "Yhat=lm.predict(A)\n",
        "print('The output of the first four predicted value is: ', Yhat[0:4])"
      ],
      "metadata": {
        "colab": {
          "base_uri": "https://localhost:8080/"
        },
        "outputId": "8e2f2ad9-b223-4308-808c-e505646ae698",
        "id": "G_FGg8VN-WAs"
      },
      "execution_count": 216,
      "outputs": [
        {
          "output_type": "stream",
          "name": "stdout",
          "text": [
            "The output of the first four predicted value is:  [13728.4631336  13728.4631336  17399.38347881 10224.40280408]\n"
          ]
        }
      ]
    },
    {
      "cell_type": "code",
      "source": [
        "mse = mean_squared_error(df['price'], Yhat)\n",
        "print('The mean square error of price and predicted value is: ', mse)"
      ],
      "metadata": {
        "colab": {
          "base_uri": "https://localhost:8080/"
        },
        "outputId": "eedf272c-e9b5-4827-c96d-e8d7da792a57",
        "id": "oNa-dB2w-WAs"
      },
      "execution_count": 217,
      "outputs": [
        {
          "output_type": "stream",
          "name": "stdout",
          "text": [
            "The mean square error of price and predicted value is:  15021126.025174143\n"
          ]
        }
      ]
    },
    {
      "cell_type": "code",
      "source": [
        "Y_predict_multifit = lm.predict(A)"
      ],
      "metadata": {
        "id": "i6jKKLw3-WAs"
      },
      "execution_count": 218,
      "outputs": []
    },
    {
      "cell_type": "code",
      "source": [
        "print('The mean square error of price and predicted value using multifit is: ', \\\n",
        "      mean_squared_error(df['price'], Y_predict_multifit))"
      ],
      "metadata": {
        "colab": {
          "base_uri": "https://localhost:8080/"
        },
        "outputId": "6887f1cc-95e3-4afb-ba5c-1ac13bdb3eea",
        "id": "E_i1hdX--WAt"
      },
      "execution_count": 219,
      "outputs": [
        {
          "output_type": "stream",
          "name": "stdout",
          "text": [
            "The mean square error of price and predicted value using multifit is:  15021126.025174143\n"
          ]
        }
      ]
    },
    {
      "cell_type": "markdown",
      "source": [
        "## Modelo5"
      ],
      "metadata": {
        "id": "umLS2Jeo7tgD"
      }
    },
    {
      "cell_type": "code",
      "source": [
        "lm.fit(B, Y)\n",
        "print('The R-square is: ', lm.score(B, Y))"
      ],
      "metadata": {
        "colab": {
          "base_uri": "https://localhost:8080/"
        },
        "id": "wgsLBH1M8DvR",
        "outputId": "67735cf3-0864-486e-a20b-9f21096f5a41"
      },
      "execution_count": 220,
      "outputs": [
        {
          "output_type": "stream",
          "name": "stdout",
          "text": [
            "The R-square is:  0.4713797473570377\n"
          ]
        }
      ]
    },
    {
      "cell_type": "code",
      "source": [
        "Yhat=lm.predict(B)\n",
        "print('The output of the first four predicted value is: ', Yhat[0:4])"
      ],
      "metadata": {
        "colab": {
          "base_uri": "https://localhost:8080/"
        },
        "outputId": "bc00477e-1f2d-4e2f-d5d0-40b8774ea34d",
        "id": "00vbKkWA-YNy"
      },
      "execution_count": 221,
      "outputs": [
        {
          "output_type": "stream",
          "name": "stdout",
          "text": [
            "The output of the first four predicted value is:  [16757.08312743 16757.08312743 18455.98957651 14208.72345381]\n"
          ]
        }
      ]
    },
    {
      "cell_type": "code",
      "source": [
        "mse = mean_squared_error(df['price'], Yhat)\n",
        "print('The mean square error of price and predicted value is: ', mse)"
      ],
      "metadata": {
        "colab": {
          "base_uri": "https://localhost:8080/"
        },
        "outputId": "49d63126-b14c-4a57-c640-8e3343b92df3",
        "id": "z0mSy1bW-YNz"
      },
      "execution_count": 222,
      "outputs": [
        {
          "output_type": "stream",
          "name": "stdout",
          "text": [
            "The mean square error of price and predicted value is:  33219371.63106507\n"
          ]
        }
      ]
    },
    {
      "cell_type": "code",
      "source": [
        "Y_predict_multifit = lm.predict(B)"
      ],
      "metadata": {
        "id": "MSKOOnG3-YNz"
      },
      "execution_count": 223,
      "outputs": []
    },
    {
      "cell_type": "code",
      "source": [
        "print('The mean square error of price and predicted value using multifit is: ', \\\n",
        "      mean_squared_error(df['price'], Y_predict_multifit))"
      ],
      "metadata": {
        "colab": {
          "base_uri": "https://localhost:8080/"
        },
        "outputId": "af5dc135-a445-4088-d12c-e0ad1646037a",
        "id": "-wxowxZ4-YNz"
      },
      "execution_count": 224,
      "outputs": [
        {
          "output_type": "stream",
          "name": "stdout",
          "text": [
            "The mean square error of price and predicted value using multifit is:  33219371.63106507\n"
          ]
        }
      ]
    },
    {
      "cell_type": "markdown",
      "source": [
        "## Modelo6"
      ],
      "metadata": {
        "id": "9sIaofRo7vDY"
      }
    },
    {
      "cell_type": "code",
      "source": [
        "lm.fit(C, Y)\n",
        "print('The R-square is: ', lm.score(C, Y))"
      ],
      "metadata": {
        "colab": {
          "base_uri": "https://localhost:8080/"
        },
        "id": "qoT2qcTs8Esq",
        "outputId": "22fe3784-c2df-463c-ce8d-c85bde7065fd"
      },
      "execution_count": 225,
      "outputs": [
        {
          "output_type": "stream",
          "name": "stdout",
          "text": [
            "The R-square is:  0.2950177703672072\n"
          ]
        }
      ]
    },
    {
      "cell_type": "code",
      "source": [
        "Yhat=lm.predict(C)\n",
        "print('The output of the first four predicted value is: ', Yhat[0:4])"
      ],
      "metadata": {
        "colab": {
          "base_uri": "https://localhost:8080/"
        },
        "outputId": "81f8acb0-c837-4a71-8150-7292bb7433fb",
        "id": "qcDZfopN-aUP"
      },
      "execution_count": 226,
      "outputs": [
        {
          "output_type": "stream",
          "name": "stdout",
          "text": [
            "The output of the first four predicted value is:  [15450.27312826 15450.27312826  2729.69660162 10941.71435932]\n"
          ]
        }
      ]
    },
    {
      "cell_type": "code",
      "source": [
        "mse = mean_squared_error(df['price'], Yhat)\n",
        "print('The mean square error of price and predicted value is: ', mse)"
      ],
      "metadata": {
        "colab": {
          "base_uri": "https://localhost:8080/"
        },
        "outputId": "a8cdc126-b3ea-4ec8-f2b3-c0af06e478fa",
        "id": "yAvoHExq-aUP"
      },
      "execution_count": 227,
      "outputs": [
        {
          "output_type": "stream",
          "name": "stdout",
          "text": [
            "The mean square error of price and predicted value is:  44302250.17369164\n"
          ]
        }
      ]
    },
    {
      "cell_type": "code",
      "source": [
        "Y_predict_multifit = lm.predict(C)"
      ],
      "metadata": {
        "id": "0GF6qqxl-aUP"
      },
      "execution_count": 228,
      "outputs": []
    },
    {
      "cell_type": "code",
      "source": [
        "print('The mean square error of price and predicted value using multifit is: ', \\\n",
        "      mean_squared_error(df['price'], Y_predict_multifit))"
      ],
      "metadata": {
        "colab": {
          "base_uri": "https://localhost:8080/"
        },
        "outputId": "53f5c4b7-2756-47ad-9dab-e5fdfd8c51fd",
        "id": "IcxnKrg0-aUQ"
      },
      "execution_count": 229,
      "outputs": [
        {
          "output_type": "stream",
          "name": "stdout",
          "text": [
            "The mean square error of price and predicted value using multifit is:  44302250.17369164\n"
          ]
        }
      ]
    },
    {
      "cell_type": "markdown",
      "source": [
        "## Modelo7"
      ],
      "metadata": {
        "id": "wju-j8tn7xLR"
      }
    },
    {
      "cell_type": "code",
      "source": [
        "lm.fit(D, Y)\n",
        "print('The R-square is: ', lm.score(D, Y))"
      ],
      "metadata": {
        "colab": {
          "base_uri": "https://localhost:8080/"
        },
        "id": "XaBilEzo8FuY",
        "outputId": "0f9b2265-bd0d-4d97-e184-166cd30ee725"
      },
      "execution_count": 230,
      "outputs": [
        {
          "output_type": "stream",
          "name": "stdout",
          "text": [
            "The R-square is:  0.5643996171739719\n"
          ]
        }
      ]
    },
    {
      "cell_type": "code",
      "source": [
        "Yhat=lm.predict(D)\n",
        "print('The output of the first four predicted value is: ', Yhat[0:4])"
      ],
      "metadata": {
        "colab": {
          "base_uri": "https://localhost:8080/"
        },
        "outputId": "c1b1dbdd-33cc-41e2-d29a-de87e9133117",
        "id": "qi0jzoyl-chT"
      },
      "execution_count": 231,
      "outputs": [
        {
          "output_type": "stream",
          "name": "stdout",
          "text": [
            "The output of the first four predicted value is:  [ 8124.35937942  8124.35937942 12101.81063257 14090.53625914]\n"
          ]
        }
      ]
    },
    {
      "cell_type": "code",
      "source": [
        "mse = mean_squared_error(df['price'], Yhat)\n",
        "print('The mean square error of price and predicted value is: ', mse)"
      ],
      "metadata": {
        "colab": {
          "base_uri": "https://localhost:8080/"
        },
        "outputId": "9b5592da-0bc1-4dbf-f4bb-6c2a18898521",
        "id": "o4dJFZm8-chT"
      },
      "execution_count": 232,
      "outputs": [
        {
          "output_type": "stream",
          "name": "stdout",
          "text": [
            "The mean square error of price and predicted value is:  27373849.04831775\n"
          ]
        }
      ]
    },
    {
      "cell_type": "code",
      "source": [
        "Y_predict_multifit = lm.predict(D)"
      ],
      "metadata": {
        "id": "laXfKmmv-chT"
      },
      "execution_count": 233,
      "outputs": []
    },
    {
      "cell_type": "code",
      "source": [
        "print('The mean square error of price and predicted value using multifit is: ', \\\n",
        "      mean_squared_error(df['price'], Y_predict_multifit))"
      ],
      "metadata": {
        "colab": {
          "base_uri": "https://localhost:8080/"
        },
        "outputId": "7de86cc9-df22-4843-c218-b09fde1015d3",
        "id": "ZHD4Z1pK-chT"
      },
      "execution_count": 234,
      "outputs": [
        {
          "output_type": "stream",
          "name": "stdout",
          "text": [
            "The mean square error of price and predicted value using multifit is:  27373849.04831775\n"
          ]
        }
      ]
    },
    {
      "cell_type": "markdown",
      "source": [
        "## Modelo8"
      ],
      "metadata": {
        "id": "N8Uy609A7yGV"
      }
    },
    {
      "cell_type": "code",
      "source": [
        "lm.fit(E, Y)\n",
        "print('The R-square is: ', lm.score(E, Y))"
      ],
      "metadata": {
        "colab": {
          "base_uri": "https://localhost:8080/"
        },
        "id": "aCEhrh3l8GmR",
        "outputId": "f79a5aaf-9efe-47cf-df85-2411d33cc518"
      },
      "execution_count": 235,
      "outputs": [
        {
          "output_type": "stream",
          "name": "stdout",
          "text": [
            "The R-square is:  0.47696755988073014\n"
          ]
        }
      ]
    },
    {
      "cell_type": "code",
      "source": [
        "Yhat=lm.predict(E)\n",
        "print('The output of the first four predicted value is: ', Yhat[0:4])"
      ],
      "metadata": {
        "colab": {
          "base_uri": "https://localhost:8080/"
        },
        "outputId": "d16e2dcd-4868-47d3-9cf1-a6fac768e568",
        "id": "kBDsPxzX-ePg"
      },
      "execution_count": 236,
      "outputs": [
        {
          "output_type": "stream",
          "name": "stdout",
          "text": [
            "The output of the first four predicted value is:  [10801.45044105 10801.45044105 11870.44409178 14275.67980594]\n"
          ]
        }
      ]
    },
    {
      "cell_type": "code",
      "source": [
        "mse = mean_squared_error(df['price'], Yhat)\n",
        "print('The mean square error of price and predicted value is: ', mse)"
      ],
      "metadata": {
        "colab": {
          "base_uri": "https://localhost:8080/"
        },
        "outputId": "d8fd9648-8364-45e0-d67f-1fef46d3cd0f",
        "id": "G5B9-cx2-ePh"
      },
      "execution_count": 237,
      "outputs": [
        {
          "output_type": "stream",
          "name": "stdout",
          "text": [
            "The mean square error of price and predicted value is:  32868224.2433114\n"
          ]
        }
      ]
    },
    {
      "cell_type": "code",
      "source": [
        "Y_predict_multifit = lm.predict(E)"
      ],
      "metadata": {
        "id": "x7y9RBpl-ePi"
      },
      "execution_count": 238,
      "outputs": []
    },
    {
      "cell_type": "code",
      "source": [
        "print('The mean square error of price and predicted value using multifit is: ', \\\n",
        "      mean_squared_error(df['price'], Y_predict_multifit))"
      ],
      "metadata": {
        "colab": {
          "base_uri": "https://localhost:8080/"
        },
        "outputId": "0a12d1ae-5d39-43ec-8db8-892ce6f9111f",
        "id": "lbxQjJ7V-ePi"
      },
      "execution_count": 239,
      "outputs": [
        {
          "output_type": "stream",
          "name": "stdout",
          "text": [
            "The mean square error of price and predicted value using multifit is:  32868224.2433114\n"
          ]
        }
      ]
    },
    {
      "cell_type": "markdown",
      "source": [
        "## Modelo9"
      ],
      "metadata": {
        "id": "rDaZ0UqI7zA-"
      }
    },
    {
      "cell_type": "code",
      "source": [
        "lm.fit(F, Y)\n",
        "print('The R-square is: ', lm.score(F, Y))"
      ],
      "metadata": {
        "colab": {
          "base_uri": "https://localhost:8080/"
        },
        "id": "FaZFY1hd8HJX",
        "outputId": "f1ac26da-96ab-4d88-d233-89a50a8d38b4"
      },
      "execution_count": 240,
      "outputs": [
        {
          "output_type": "stream",
          "name": "stdout",
          "text": [
            "The R-square is:  0.3418060603419337\n"
          ]
        }
      ]
    },
    {
      "cell_type": "code",
      "source": [
        "Yhat=lm.predict(F)\n",
        "print('The output of the first four predicted value is: ', Yhat[0:4])"
      ],
      "metadata": {
        "colab": {
          "base_uri": "https://localhost:8080/"
        },
        "outputId": "17683e8a-4f89-40e4-e6c7-364a8b0766f2",
        "id": "L4y_jYO0-gdH"
      },
      "execution_count": 241,
      "outputs": [
        {
          "output_type": "stream",
          "name": "stdout",
          "text": [
            "The output of the first four predicted value is:  [ 5397.30627159  5397.30627159  9916.07539362 13975.30867274]\n"
          ]
        }
      ]
    },
    {
      "cell_type": "code",
      "source": [
        "mse = mean_squared_error(df['price'], Yhat)\n",
        "print('The mean square error of price and predicted value is: ', mse)"
      ],
      "metadata": {
        "colab": {
          "base_uri": "https://localhost:8080/"
        },
        "outputId": "749d5c79-6230-474a-eba0-499847cb6faf",
        "id": "UoKioMUT-gdI"
      },
      "execution_count": 242,
      "outputs": [
        {
          "output_type": "stream",
          "name": "stdout",
          "text": [
            "The mean square error of price and predicted value is:  41361996.58923002\n"
          ]
        }
      ]
    },
    {
      "cell_type": "code",
      "source": [
        "Y_predict_multifit = lm.predict(F)"
      ],
      "metadata": {
        "id": "cyYunRET-gdJ"
      },
      "execution_count": 243,
      "outputs": []
    },
    {
      "cell_type": "code",
      "source": [
        "print('The mean square error of price and predicted value using multifit is: ', \\\n",
        "      mean_squared_error(df['price'], Y_predict_multifit))"
      ],
      "metadata": {
        "colab": {
          "base_uri": "https://localhost:8080/"
        },
        "outputId": "32325b14-1548-4d08-e3a1-e4852135533c",
        "id": "E-Axd8F3-gdJ"
      },
      "execution_count": 244,
      "outputs": [
        {
          "output_type": "stream",
          "name": "stdout",
          "text": [
            "The mean square error of price and predicted value using multifit is:  41361996.58923002\n"
          ]
        }
      ]
    },
    {
      "cell_type": "markdown",
      "metadata": {
        "id": "JjzwfZcLYhmf"
      },
      "source": [
        "# Questão 2\n",
        "Crie um novo modelo de regressão linear múltipla <b>lm2</b> treinado sobre as seguintes features:\n",
        "* horsepower\n",
        "* highway-mpg\n",
        "* city-mpg\n",
        "\n",
        "Avalie a qualidade do ajuste (treinamento) usando R-squared e a qualidade das previsões do ajuste usando MSE."
      ]
    },
    {
      "cell_type": "code",
      "execution_count": 245,
      "metadata": {
        "id": "TLYVR_Fekfs3"
      },
      "outputs": [],
      "source": [
        "# inicie seu codigo da questao a partir daqui"
      ]
    },
    {
      "cell_type": "code",
      "source": [
        "lm2 = LinearRegression()\n",
        "lm2"
      ],
      "metadata": {
        "colab": {
          "base_uri": "https://localhost:8080/"
        },
        "id": "c3oklrCxDjn9",
        "outputId": "7f3148a8-ab41-47ef-9403-3382d662bef0"
      },
      "execution_count": 246,
      "outputs": [
        {
          "output_type": "execute_result",
          "data": {
            "text/plain": [
              "LinearRegression()"
            ]
          },
          "metadata": {},
          "execution_count": 246
        }
      ]
    },
    {
      "cell_type": "markdown",
      "source": [
        "## Modelo 1"
      ],
      "metadata": {
        "id": "4ffpDnxwD26_"
      }
    },
    {
      "cell_type": "code",
      "source": [
        "lm2.fit(X, Y)\n",
        "print('The R-square is: ', lm2.score(X, Y))"
      ],
      "metadata": {
        "colab": {
          "base_uri": "https://localhost:8080/"
        },
        "id": "vJfU2L3EDkcE",
        "outputId": "76648074-db4d-449f-a483-80d173403791"
      },
      "execution_count": 247,
      "outputs": [
        {
          "output_type": "stream",
          "name": "stdout",
          "text": [
            "The R-square is:  0.4965911884339176\n"
          ]
        }
      ]
    },
    {
      "cell_type": "code",
      "source": [
        "Yhat=lm2.predict(X)\n",
        "print('The output of the first four predicted value is: ', Yhat[0:4])"
      ],
      "metadata": {
        "outputId": "7305ddc5-4de3-439b-8f85-ae1080271cd4",
        "colab": {
          "base_uri": "https://localhost:8080/"
        },
        "id": "ReW9wyzdEHe7"
      },
      "execution_count": 248,
      "outputs": [
        {
          "output_type": "stream",
          "name": "stdout",
          "text": [
            "The output of the first four predicted value is:  [16236.50464347 16236.50464347 17058.23802179 13771.3045085 ]\n"
          ]
        }
      ]
    },
    {
      "cell_type": "code",
      "source": [
        "mse = mean_squared_error(df['price'], Yhat)\n",
        "print('The mean square error of price and predicted value is: ', mse)"
      ],
      "metadata": {
        "outputId": "856aaaa8-025c-4432-f911-70e5f1aaf2dd",
        "colab": {
          "base_uri": "https://localhost:8080/"
        },
        "id": "05fFbD7xEHe8"
      },
      "execution_count": 249,
      "outputs": [
        {
          "output_type": "stream",
          "name": "stdout",
          "text": [
            "The mean square error of price and predicted value is:  31635042.944639888\n"
          ]
        }
      ]
    },
    {
      "cell_type": "code",
      "source": [
        "Y_predict_multifit = lm2.predict(X)"
      ],
      "metadata": {
        "id": "oU4l2E_xEHe8"
      },
      "execution_count": 250,
      "outputs": []
    },
    {
      "cell_type": "code",
      "source": [
        "print('The mean square error of price and predicted value using multifit is: ', \\\n",
        "      mean_squared_error(df['price'], Y_predict_multifit))"
      ],
      "metadata": {
        "outputId": "966ddf4e-f1b3-401e-9578-96aeb20d4318",
        "colab": {
          "base_uri": "https://localhost:8080/"
        },
        "id": "4EfaT_wNEHe8"
      },
      "execution_count": 251,
      "outputs": [
        {
          "output_type": "stream",
          "name": "stdout",
          "text": [
            "The mean square error of price and predicted value using multifit is:  31635042.944639888\n"
          ]
        }
      ]
    },
    {
      "cell_type": "markdown",
      "source": [
        "## Modelo 2"
      ],
      "metadata": {
        "id": "O9s-N_gzBIfg"
      }
    },
    {
      "cell_type": "code",
      "source": [
        "lm2.fit(H, Y)\n",
        "print('The R-square is: ', lm2.score(H, Y))"
      ],
      "metadata": {
        "colab": {
          "base_uri": "https://localhost:8080/"
        },
        "outputId": "1928a98d-7c44-4161-c6dc-c3aa6161f958",
        "id": "KFFuorbsBIfg"
      },
      "execution_count": 252,
      "outputs": [
        {
          "output_type": "stream",
          "name": "stdout",
          "text": [
            "The R-square is:  0.6554109795391572\n"
          ]
        }
      ]
    },
    {
      "cell_type": "code",
      "source": [
        "Yhat=lm2.predict(H)\n",
        "print('The output of the first four predicted value is: ', Yhat[0:4])"
      ],
      "metadata": {
        "outputId": "3d7225da-7a69-4913-bd2f-97d69edca345",
        "colab": {
          "base_uri": "https://localhost:8080/"
        },
        "id": "Apq8whslBIfh"
      },
      "execution_count": 253,
      "outputs": [
        {
          "output_type": "stream",
          "name": "stdout",
          "text": [
            "The output of the first four predicted value is:  [14514.76823442 14514.76823442 21918.64247666 12965.1201372 ]\n"
          ]
        }
      ]
    },
    {
      "cell_type": "code",
      "source": [
        "mse = mean_squared_error(df['price'], Yhat)\n",
        "print('The mean square error of price and predicted value is: ', mse)"
      ],
      "metadata": {
        "outputId": "2df3c2e2-6635-4f0a-c00b-af43ddc19cc1",
        "colab": {
          "base_uri": "https://localhost:8080/"
        },
        "id": "RNV_KLSLBIfh"
      },
      "execution_count": 254,
      "outputs": [
        {
          "output_type": "stream",
          "name": "stdout",
          "text": [
            "The mean square error of price and predicted value is:  21654544.398254286\n"
          ]
        }
      ]
    },
    {
      "cell_type": "code",
      "source": [
        "Y_predict_multifit = lm2.predict(H)"
      ],
      "metadata": {
        "id": "0tgFM0TqBIfh"
      },
      "execution_count": 255,
      "outputs": []
    },
    {
      "cell_type": "code",
      "source": [
        "print('The mean square error of price and predicted value using multifit is: ', \\\n",
        "      mean_squared_error(df['price'], Y_predict_multifit))"
      ],
      "metadata": {
        "outputId": "e818c54a-e2cf-4d2d-bef2-fe857bee5746",
        "colab": {
          "base_uri": "https://localhost:8080/"
        },
        "id": "Ht2HTyCBBIfh"
      },
      "execution_count": 256,
      "outputs": [
        {
          "output_type": "stream",
          "name": "stdout",
          "text": [
            "The mean square error of price and predicted value using multifit is:  21654544.398254286\n"
          ]
        }
      ]
    },
    {
      "cell_type": "markdown",
      "source": [
        "## Modelo 3"
      ],
      "metadata": {
        "id": "OYnTdu9eBJfE"
      }
    },
    {
      "cell_type": "code",
      "source": [
        "lm2.fit(B, Y)\n",
        "print('The R-square is: ', lm2.score(B, Y))"
      ],
      "metadata": {
        "colab": {
          "base_uri": "https://localhost:8080/"
        },
        "outputId": "13ecd5cf-0da8-40e0-aa61-5d89acdb55ef",
        "id": "8fNQBD5LBJfF"
      },
      "execution_count": 257,
      "outputs": [
        {
          "output_type": "stream",
          "name": "stdout",
          "text": [
            "The R-square is:  0.4713797473570377\n"
          ]
        }
      ]
    },
    {
      "cell_type": "code",
      "source": [
        "Yhat=lm2.predict(B)\n",
        "print('The output of the first four predicted value is: ', Yhat[0:4])"
      ],
      "metadata": {
        "outputId": "00674d63-77cf-4c17-e625-1d938028f6c7",
        "colab": {
          "base_uri": "https://localhost:8080/"
        },
        "id": "F_sZqm8KBJfF"
      },
      "execution_count": 258,
      "outputs": [
        {
          "output_type": "stream",
          "name": "stdout",
          "text": [
            "The output of the first four predicted value is:  [16757.08312743 16757.08312743 18455.98957651 14208.72345381]\n"
          ]
        }
      ]
    },
    {
      "cell_type": "code",
      "source": [
        "mse = mean_squared_error(df['price'], Yhat)\n",
        "print('The mean square error of price and predicted value is: ', mse)"
      ],
      "metadata": {
        "outputId": "956e2721-3744-4677-b8c3-cb1bb387bb73",
        "colab": {
          "base_uri": "https://localhost:8080/"
        },
        "id": "14uUDDPABJfF"
      },
      "execution_count": 259,
      "outputs": [
        {
          "output_type": "stream",
          "name": "stdout",
          "text": [
            "The mean square error of price and predicted value is:  33219371.63106507\n"
          ]
        }
      ]
    },
    {
      "cell_type": "code",
      "source": [
        "Y_predict_multifit = lm2.predict(B)"
      ],
      "metadata": {
        "id": "UyNIFK5-BJfG"
      },
      "execution_count": 260,
      "outputs": []
    },
    {
      "cell_type": "code",
      "source": [
        "print('The mean square error of price and predicted value using multifit is: ', \\\n",
        "      mean_squared_error(df['price'], Y_predict_multifit))"
      ],
      "metadata": {
        "outputId": "4f82184e-0ae4-4341-ef90-2671e55dc6d7",
        "colab": {
          "base_uri": "https://localhost:8080/"
        },
        "id": "jiS0Gd6cBJfG"
      },
      "execution_count": 261,
      "outputs": [
        {
          "output_type": "stream",
          "name": "stdout",
          "text": [
            "The mean square error of price and predicted value using multifit is:  33219371.63106507\n"
          ]
        }
      ]
    },
    {
      "cell_type": "markdown",
      "metadata": {
        "id": "o90AwlHPhs1e"
      },
      "source": [
        "# Questão 3\n",
        "\n",
        "Crie um novo modelo de regressão linear múltipla <b>rlm3</b> treinado sobre as seguintes features:\n",
        "* highway-mpg\n",
        "* city-mpg\n",
        "\n",
        "Avalie a qualidade do ajuste (treinamento) usando R-squared e a qualidade das previsões do ajuste usando MSE."
      ]
    },
    {
      "cell_type": "code",
      "execution_count": 262,
      "metadata": {
        "id": "OkL5MX_NF22H"
      },
      "outputs": [],
      "source": [
        "# inicie seu codigo da questao a partir daqui"
      ]
    },
    {
      "cell_type": "code",
      "source": [
        "lm3 = LinearRegression()\n",
        "lm3"
      ],
      "metadata": {
        "colab": {
          "base_uri": "https://localhost:8080/"
        },
        "outputId": "3909cdc5-7942-4ff0-8757-f27708c1ab2c",
        "id": "bUegNlwwF22H"
      },
      "execution_count": 263,
      "outputs": [
        {
          "output_type": "execute_result",
          "data": {
            "text/plain": [
              "LinearRegression()"
            ]
          },
          "metadata": {},
          "execution_count": 263
        }
      ]
    },
    {
      "cell_type": "markdown",
      "source": [
        "## Modelo1"
      ],
      "metadata": {
        "id": "jwmOjcXlF22J"
      }
    },
    {
      "cell_type": "code",
      "source": [
        "lm3.fit(X, Y)\n",
        "print('The R-square is: ', lm3.score(X, Y))"
      ],
      "metadata": {
        "colab": {
          "base_uri": "https://localhost:8080/"
        },
        "outputId": "60580682-78f6-4942-a7cd-26ef56baa50e",
        "id": "wkI-jLoeF22K"
      },
      "execution_count": 264,
      "outputs": [
        {
          "output_type": "stream",
          "name": "stdout",
          "text": [
            "The R-square is:  0.4965911884339176\n"
          ]
        }
      ]
    },
    {
      "cell_type": "code",
      "source": [
        "Yhat=lm3.predict(X)\n",
        "print('The output of the first four predicted value is: ', Yhat[0:4])"
      ],
      "metadata": {
        "outputId": "4483d193-129b-48ed-9a01-00bf8c4998e5",
        "colab": {
          "base_uri": "https://localhost:8080/"
        },
        "id": "p3WsiRD3F22K"
      },
      "execution_count": 265,
      "outputs": [
        {
          "output_type": "stream",
          "name": "stdout",
          "text": [
            "The output of the first four predicted value is:  [16236.50464347 16236.50464347 17058.23802179 13771.3045085 ]\n"
          ]
        }
      ]
    },
    {
      "cell_type": "code",
      "source": [
        "mse = mean_squared_error(df['price'], Yhat)\n",
        "print('The mean square error of price and predicted value is: ', mse)"
      ],
      "metadata": {
        "outputId": "c761a131-2724-4c55-a287-e8c88774dcce",
        "colab": {
          "base_uri": "https://localhost:8080/"
        },
        "id": "eYX3tyAxF22K"
      },
      "execution_count": 266,
      "outputs": [
        {
          "output_type": "stream",
          "name": "stdout",
          "text": [
            "The mean square error of price and predicted value is:  31635042.944639888\n"
          ]
        }
      ]
    },
    {
      "cell_type": "code",
      "source": [
        "Y_predict_multifit = lm3.predict(X)"
      ],
      "metadata": {
        "id": "O_BiQEfnF22K"
      },
      "execution_count": 267,
      "outputs": []
    },
    {
      "cell_type": "code",
      "source": [
        "print('The mean square error of price and predicted value using multifit is: ', \\\n",
        "      mean_squared_error(df['price'], Y_predict_multifit))"
      ],
      "metadata": {
        "outputId": "79e2c890-7164-40bc-be47-9c1118a5ff2c",
        "colab": {
          "base_uri": "https://localhost:8080/"
        },
        "id": "VWmcLOF4F22K"
      },
      "execution_count": 268,
      "outputs": [
        {
          "output_type": "stream",
          "name": "stdout",
          "text": [
            "The mean square error of price and predicted value using multifit is:  31635042.944639888\n"
          ]
        }
      ]
    },
    {
      "cell_type": "markdown",
      "source": [
        "## Modelo2"
      ],
      "metadata": {
        "id": "YcgC4ibLCf8X"
      }
    },
    {
      "cell_type": "code",
      "source": [
        "lm3.fit(B, Y)\n",
        "print('The R-square is: ', lm3.score(B, Y))"
      ],
      "metadata": {
        "colab": {
          "base_uri": "https://localhost:8080/"
        },
        "outputId": "367f91cf-c089-4121-c0a3-9172cd34cc68",
        "id": "xFjrs8FSCf8X"
      },
      "execution_count": 269,
      "outputs": [
        {
          "output_type": "stream",
          "name": "stdout",
          "text": [
            "The R-square is:  0.4713797473570377\n"
          ]
        }
      ]
    },
    {
      "cell_type": "code",
      "source": [
        "Yhat=lm3.predict(B)\n",
        "print('The output of the first four predicted value is: ', Yhat[0:4])"
      ],
      "metadata": {
        "outputId": "ad1f55f0-3fbd-40db-9560-c90adb777b18",
        "colab": {
          "base_uri": "https://localhost:8080/"
        },
        "id": "ZUoaHmZHCf8Y"
      },
      "execution_count": 270,
      "outputs": [
        {
          "output_type": "stream",
          "name": "stdout",
          "text": [
            "The output of the first four predicted value is:  [16757.08312743 16757.08312743 18455.98957651 14208.72345381]\n"
          ]
        }
      ]
    },
    {
      "cell_type": "code",
      "source": [
        "mse = mean_squared_error(df['price'], Yhat)\n",
        "print('The mean square error of price and predicted value is: ', mse)"
      ],
      "metadata": {
        "outputId": "ffb8c436-f5a0-49e5-c723-8ae2ab2df9e6",
        "colab": {
          "base_uri": "https://localhost:8080/"
        },
        "id": "ga7ArxMlCf8Y"
      },
      "execution_count": 271,
      "outputs": [
        {
          "output_type": "stream",
          "name": "stdout",
          "text": [
            "The mean square error of price and predicted value is:  33219371.63106507\n"
          ]
        }
      ]
    },
    {
      "cell_type": "code",
      "source": [
        "Y_predict_multifit = lm3.predict(B)"
      ],
      "metadata": {
        "id": "37BmdaGMCf8Y"
      },
      "execution_count": 272,
      "outputs": []
    },
    {
      "cell_type": "code",
      "source": [
        "print('The mean square error of price and predicted value using multifit is: ', \\\n",
        "      mean_squared_error(df['price'], Y_predict_multifit))"
      ],
      "metadata": {
        "outputId": "e47f505c-d48d-4cb4-e004-43b03c4d793a",
        "colab": {
          "base_uri": "https://localhost:8080/"
        },
        "id": "MsQ0uCeaCf8Y"
      },
      "execution_count": 273,
      "outputs": [
        {
          "output_type": "stream",
          "name": "stdout",
          "text": [
            "The mean square error of price and predicted value using multifit is:  33219371.63106507\n"
          ]
        }
      ]
    },
    {
      "cell_type": "markdown",
      "metadata": {
        "id": "HNcpokUhb5Gd"
      },
      "source": [
        "# Questão 4\n",
        "Avalie os modelos lm1, lm2 e lm3 treinados e diga qual foi o melhor (e o pior) para métrica MSE sobre o conjunto de dados de testes (test.csv), isto é, dados não usados nos ajustes dos modelos. Esse conjunto contem 50 carros e seus respectivos preços. Para tanto use estes modelos para realizar novas previsões sobre os preços dos 50 carros contidos no arquivo test.csv e avalie a qualidade das previsões pra cada modelo usando MSE.\n",
        "\n",
        "Para realizar previsões no teste, procure selecionar as mesmas colunas utilizadas no treinamento. Por exemplo, se o modelo foi treinado usando as colunas 1, 2 e 3 do dataframe de treino como features, realize as previsões utilizando somente as colunas 1, 2 e 3 do dataframe de teste como features. Atente que para a métrica MSE, você precisa também selecionar a coluna do 'price' do teste para compará-la com o 'price' predito pelo modelo."
      ]
    },
    {
      "cell_type": "markdown",
      "metadata": {
        "id": "AwnYRjWPejiW"
      },
      "source": [
        "Cria uma nova entrada com dados para testar o modelo:\n"
      ]
    },
    {
      "cell_type": "code",
      "execution_count": 274,
      "metadata": {
        "id": "gD3-_4yGlDel",
        "colab": {
          "base_uri": "https://localhost:8080/"
        },
        "outputId": "86698d29-c89c-4840-94c7-574108011516"
      },
      "outputs": [
        {
          "output_type": "execute_result",
          "data": {
            "text/plain": [
              "Index(['horsepower', 'curb-weight', 'engine-size', 'highway-mpg', 'city-mpg',\n",
              "       'bore', 'width', 'length', 'wheel-base', 'price'],\n",
              "      dtype='object')"
            ]
          },
          "metadata": {},
          "execution_count": 274
        }
      ],
      "source": [
        "path='/content/drive/MyDrive/yep/1/test.csv'\n",
        "df = pd.read_csv(path)\n",
        "df.columns"
      ]
    },
    {
      "cell_type": "markdown",
      "source": [
        "## Modelo1"
      ],
      "metadata": {
        "id": "RHiN0HplHASt"
      }
    },
    {
      "cell_type": "code",
      "execution_count": 275,
      "metadata": {
        "id": "hey3l-1KejiW"
      },
      "outputs": [],
      "source": [
        "new_input1=np.arange(1, 100, 1).reshape(-1, 1)"
      ]
    },
    {
      "cell_type": "code",
      "execution_count": 276,
      "metadata": {
        "id": "Imh2ZrlBejiW",
        "outputId": "0c15e9a2-2ba3-4625-af45-5aaf1435ca79",
        "colab": {
          "base_uri": "https://localhost:8080/"
        }
      },
      "outputs": [
        {
          "output_type": "stream",
          "name": "stderr",
          "text": [
            "/usr/local/lib/python3.8/dist-packages/sklearn/base.py:450: UserWarning: X does not have valid feature names, but LinearRegression was fitted with feature names\n",
            "  warnings.warn(\n"
          ]
        },
        {
          "output_type": "execute_result",
          "data": {
            "text/plain": [
              "array([-61694.92679454, -60929.03372301, -60163.14065148, -59397.24757994,\n",
              "       -58631.35450841])"
            ]
          },
          "metadata": {},
          "execution_count": 276
        }
      ],
      "source": [
        "yhat=lm.predict(new_input1)\n",
        "yhat[0:5]"
      ]
    },
    {
      "cell_type": "code",
      "execution_count": 277,
      "metadata": {
        "id": "kDLyADzWejiW",
        "outputId": "753813e2-8988-43c8-9875-f3e625c4e867",
        "colab": {
          "base_uri": "https://localhost:8080/",
          "height": 265
        }
      },
      "outputs": [
        {
          "output_type": "display_data",
          "data": {
            "text/plain": [
              "<Figure size 432x288 with 1 Axes>"
            ],
            "image/png": "[encoded data removed]"
          },
          "metadata": {
            "needs_background": "light"
          }
        }
      ],
      "source": [
        "plt.plot(new_input1, yhat)\n",
        "plt.show()"
      ]
    },
    {
      "cell_type": "markdown",
      "source": [
        "## Modelo2"
      ],
      "metadata": {
        "id": "7gOXEqNxHQ9x"
      }
    },
    {
      "cell_type": "code",
      "source": [
        "new_input2=np.arange(1, 100, 1).reshape(-1, 1)"
      ],
      "metadata": {
        "id": "LetqMTu6LG5r"
      },
      "execution_count": 278,
      "outputs": []
    },
    {
      "cell_type": "code",
      "execution_count": 279,
      "metadata": {
        "outputId": "35b40381-9173-4fda-dc9c-1654000cdc01",
        "colab": {
          "base_uri": "https://localhost:8080/"
        },
        "id": "1jroNv44Kx2b"
      },
      "outputs": [
        {
          "output_type": "stream",
          "name": "stderr",
          "text": [
            "/usr/local/lib/python3.8/dist-packages/sklearn/base.py:450: UserWarning: X does not have valid feature names, but LinearRegression was fitted with feature names\n",
            "  warnings.warn(\n"
          ]
        },
        {
          "output_type": "execute_result",
          "data": {
            "text/plain": [
              "array([33746.14761824, 32896.6943937 , 32047.24116916, 31197.78794462,\n",
              "       30348.33472008])"
            ]
          },
          "metadata": {},
          "execution_count": 279
        }
      ],
      "source": [
        "yhat=lm2.predict(new_input2)\n",
        "yhat[0:5]"
      ]
    },
    {
      "cell_type": "code",
      "execution_count": 280,
      "metadata": {
        "outputId": "6d54ec15-345a-4b0d-db31-fcd4388bd178",
        "colab": {
          "base_uri": "https://localhost:8080/",
          "height": 265
        },
        "id": "17JIINShKx2c"
      },
      "outputs": [
        {
          "output_type": "display_data",
          "data": {
            "text/plain": [
              "<Figure size 432x288 with 1 Axes>"
            ],
            "image/png": "[encoded data removed]"
          },
          "metadata": {
            "needs_background": "light"
          }
        }
      ],
      "source": [
        "plt.plot(new_input2, yhat)\n",
        "plt.show()"
      ]
    },
    {
      "cell_type": "markdown",
      "source": [
        "## Modelo3"
      ],
      "metadata": {
        "id": "1TMayGhzHd63"
      }
    },
    {
      "cell_type": "code",
      "source": [
        "new_input3=np.arange(1, 100, 1).reshape(-1, 1)"
      ],
      "metadata": {
        "id": "G8cHgAwDLHIv"
      },
      "execution_count": 281,
      "outputs": []
    },
    {
      "cell_type": "code",
      "execution_count": 282,
      "metadata": {
        "outputId": "66abff2d-faaf-4491-a086-651b13269526",
        "colab": {
          "base_uri": "https://localhost:8080/"
        },
        "id": "nrZuam3MKyCX"
      },
      "outputs": [
        {
          "output_type": "stream",
          "name": "stderr",
          "text": [
            "/usr/local/lib/python3.8/dist-packages/sklearn/base.py:450: UserWarning: X does not have valid feature names, but LinearRegression was fitted with feature names\n",
            "  warnings.warn(\n"
          ]
        },
        {
          "output_type": "execute_result",
          "data": {
            "text/plain": [
              "array([33746.14761824, 32896.6943937 , 32047.24116916, 31197.78794462,\n",
              "       30348.33472008])"
            ]
          },
          "metadata": {},
          "execution_count": 282
        }
      ],
      "source": [
        "yhat=lm3.predict(new_input3)\n",
        "yhat[0:5]"
      ]
    },
    {
      "cell_type": "code",
      "execution_count": 283,
      "metadata": {
        "outputId": "1e1f09fb-4111-453d-f0ef-b7bec9cfa597",
        "colab": {
          "base_uri": "https://localhost:8080/",
          "height": 265
        },
        "id": "2Bgnm1Y5KyCY"
      },
      "outputs": [
        {
          "output_type": "display_data",
          "data": {
            "text/plain": [
              "<Figure size 432x288 with 1 Axes>"
            ],
            "image/png": "[encoded data removed]"
          },
          "metadata": {
            "needs_background": "light"
          }
        }
      ],
      "source": [
        "plt.plot(new_input3, yhat)\n",
        "plt.show()"
      ]
    }
  ],
  "metadata": {
    "colab": {
      "provenance": [],
      "collapsed_sections": [
        "f8XXvbrtU6q2",
        "yy0SIkUb1EkB",
        "gVfQ5Xd62Mnx",
        "FlxfNUA02f1P",
        "JjzwfZcLYhmf",
        "o90AwlHPhs1e",
        "HNcpokUhb5Gd"
      ]
    },
    "kernelspec": {
      "display_name": "Python 3",
      "language": "python",
      "name": "python3"
    },
    "language_info": {
      "codemirror_mode": {
        "name": "ipython",
        "version": 3
      },
      "file_extension": ".py",
      "mimetype": "text/x-python",
      "name": "python",
      "nbconvert_exporter": "python",
      "pygments_lexer": "ipython3",
      "version": "3.8.8"
    }
  },
  "nbformat": 4,
  "nbformat_minor": 0
}